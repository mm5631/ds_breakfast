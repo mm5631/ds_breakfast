{
 "cells": [
  {
   "cell_type": "markdown",
   "metadata": {},
   "source": [
    "# Object Detection Exercise - Solution"
   ]
  },
  {
   "cell_type": "markdown",
   "metadata": {},
   "source": [
    "Welcome to this object-detection exercise. \n",
    "\n",
    "The page you have just joined is an integrated development environment for python. We will be using it for this session's code along. Jupyter allows you to write code and use markdowns in a very convenient and interable format. \n"
   ]
  },
  {
   "cell_type": "markdown",
   "metadata": {},
   "source": [
    "**Ressources:**\n",
    "\n",
    "The below are the paths to all the files that will be used throughout this tutorial:\n",
    " * The .jpeg files are example images that you can use. If you prefer you can upload your own photo to the data folder and enter your file name below (I recommend trying this at home!)\n"
   ]
  },
  {
   "cell_type": "code",
   "execution_count": 1,
   "metadata": {},
   "outputs": [],
   "source": [
    "# Images\n",
    "face_example = '../data/face_detection_example.jpg'\n",
    "\n",
    "your_file_name = ''\n",
    "your_face = '../data/{}'.format(your_file_name)\n",
    "\n",
    "# Algorithms\n",
    "\n",
    "face_detection = '../data/haarcascade_frontalface_default.xml'\n",
    "eye_detection = '../data/haarcascade_eye.xml'"
   ]
  },
  {
   "cell_type": "markdown",
   "metadata": {},
   "source": [
    "**To get started, let's install the required libraries:**"
   ]
  },
  {
   "cell_type": "code",
   "execution_count": 2,
   "metadata": {},
   "outputs": [],
   "source": [
    "!pip install numpy\n",
    "!pip install matplotlib\n",
    "!pip install opencv-python"
   ]
  },
  {
   "cell_type": "markdown",
   "metadata": {},
   "source": [
    "**Now let's import them!**"
   ]
  },
  {
   "cell_type": "code",
   "execution_count": 3,
   "metadata": {},
   "outputs": [],
   "source": [
    "import numpy as np\n",
    "import cv2 as cv\n",
    "\n",
    "from breakfast_ressources import *\n",
    "%matplotlib inline"
   ]
  },
  {
   "cell_type": "markdown",
   "metadata": {},
   "source": [
    "First things first, let's define a variable **img** to store our image!"
   ]
  },
  {
   "cell_type": "code",
   "execution_count": 4,
   "metadata": {},
   "outputs": [],
   "source": [
    "# To load an image we use the load method present in the OpenCV library. It can be called by writing cv.imread()\n",
    "# ENTER YOUR CODE HERE\n",
    "\n",
    "# If our image isnt gray, we need to convert it using: img = cv.cvtColor(img, cv.COLOR_BGR2GRAY)"
   ]
  },
  {
   "cell_type": "code",
   "execution_count": 5,
   "metadata": {},
   "outputs": [],
   "source": [
    "# I've predefined a little function to display images in a friendly format! Just pass the img variable to show_image()\n",
    "# ENTER YOUR CODE HERE"
   ]
  },
  {
   "cell_type": "markdown",
   "metadata": {},
   "source": [
    "**Defining our classifier:**"
   ]
  },
  {
   "cell_type": "markdown",
   "metadata": {},
   "source": [
    "- First, let's define our classifier. A binary classifier is an algorithm that only considers two outputs, i.e. yes or no, win or lose, face or no face.  \n",
    "- To define the type of classification we want to accomplish, we need to load the appropriate model, face detection and eye detection. "
   ]
  },
  {
   "cell_type": "code",
   "execution_count": 6,
   "metadata": {},
   "outputs": [],
   "source": [
    "face_cascade = cv.CascadeClassifier(face_detection)\n",
    "eye_cascade = cv.CascadeClassifier(eye_detection)"
   ]
  },
  {
   "cell_type": "markdown",
   "metadata": {},
   "source": [
    "Our classifier is now loaded. We'll first start by detecting the faces! This will make detecting the eyes much faster."
   ]
  },
  {
   "cell_type": "code",
   "execution_count": 7,
   "metadata": {},
   "outputs": [],
   "source": [
    "# In order to detect in our image, we use the detectMultiScale(image, 1.3, 5) method. \n",
    "# Detected objects are returned as a list of rectangles. Let's create a variable to store them!\n",
    "# ENTER YOUR CODE HERE"
   ]
  },
  {
   "cell_type": "code",
   "execution_count": 8,
   "metadata": {},
   "outputs": [],
   "source": [
    "# Let's print face\n",
    "# ENTER YOUR CODE HERE"
   ]
  },
  {
   "cell_type": "markdown",
   "metadata": {},
   "source": [
    "The above should be the coordinates of the rectangle entangling the face (the first two values represent coordinates, the latter represent width and length). \n",
    "\n",
    "We can also notice that our variable faces is a list of list (think of this as a container for different face coordinates). This means that the face variable is of the following format: [rectangle1_cooridnates, rectangle2_coordinates, etc.] \n",
    "\n",
    "In our scenario, this isn't very consequential as we only have one set of coordinates. But for consistency purposes we will assume that several faces can be detected. As such, when we draw our rectangles, we must iterate over the variable using a for loop."
   ]
  },
  {
   "cell_type": "code",
   "execution_count": 9,
   "metadata": {},
   "outputs": [],
   "source": [
    "# In order to draw a rectangle, we use OpenCV's method cv.rectangle(img, pt1, pt2, color, thickness)\n",
    "# ENTER YOUR CODE HERE"
   ]
  },
  {
   "cell_type": "code",
   "execution_count": 10,
   "metadata": {},
   "outputs": [],
   "source": [
    "# Let's look at our image now!\n",
    "# ENTER YOUR CODE HERE"
   ]
  },
  {
   "cell_type": "markdown",
   "metadata": {},
   "source": [
    "Now that we've identified the face, let's identify the eyes. In order to do that, we crop our image to show us the only region of interest "
   ]
  },
  {
   "cell_type": "code",
   "execution_count": 11,
   "metadata": {},
   "outputs": [],
   "source": [
    "# ## Let's store our region of interest into a new variable called roi\n",
    "roi = img[y:(y+h), x:(x+w)]\n",
    "show_image(roi)"
   ]
  },
  {
   "cell_type": "markdown",
   "metadata": {},
   "source": [
    "Not what we've defined our region of interest, let's detect the eyes the same way we detected the face, the only difference is that we use our region of interest this time!"
   ]
  },
  {
   "cell_type": "code",
   "execution_count": 12,
   "metadata": {},
   "outputs": [],
   "source": [
    "# ENTER YOUR CODE HERE"
   ]
  },
  {
   "cell_type": "markdown",
   "metadata": {},
   "source": [
    "Similarily to previously described, several items are recorded within out eyes variables. We must use a for loop again in order to draw both rectangles."
   ]
  },
  {
   "cell_type": "code",
   "execution_count": 13,
   "metadata": {},
   "outputs": [],
   "source": [
    "# In the same way as for the face component, we use OpenCV's method cv.rectangle(img, pt1, pt2, color, thickness)\n",
    "\n",
    "# ENTER YOUR CODE HERE"
   ]
  },
  {
   "cell_type": "markdown",
   "metadata": {},
   "source": [
    "Let's look at the final result"
   ]
  },
  {
   "cell_type": "code",
   "execution_count": 14,
   "metadata": {},
   "outputs": [],
   "source": [
    "# ENTER YOUR CODE HERE"
   ]
  },
  {
   "cell_type": "markdown",
   "metadata": {},
   "source": [
    "Congratulations! You should have successfuly detected the face in the picure. We hope you enjoyed this session and feel like a true AI master."
   ]
  },
  {
   "cell_type": "markdown",
   "metadata": {},
   "source": [
    "**[BONUS] Can you combine face and eye detection into one step?**"
   ]
  },
  {
   "cell_type": "code",
   "execution_count": 15,
   "metadata": {},
   "outputs": [],
   "source": [
    "img = cv.imread(face_example)\n",
    "img = cv.cvtColor(img, cv.COLOR_BGR2GRAY)\n",
    "\n",
    "# ENTER YOUR CODE HERE\n"
   ]
  },
  {
   "cell_type": "markdown",
   "metadata": {},
   "source": [
    "**How can I recreate this at home?**\n",
    "\n",
    "If you would like to recreate this exercise at home, the process is very simple! Simply go to https://mybinder.org/ and load the repository https://github.com/maximemerabet/ds_breakfast as shown below:"
   ]
  },
  {
   "cell_type": "markdown",
   "metadata": {},
   "source": [
    "![img](./my_binder.png)"
   ]
  }
 ],
 "metadata": {
  "kernelspec": {
   "display_name": "Python 3",
   "language": "python",
   "name": "python3"
  },
  "language_info": {
   "codemirror_mode": {
    "name": "ipython",
    "version": 3
   },
   "file_extension": ".py",
   "mimetype": "text/x-python",
   "name": "python",
   "nbconvert_exporter": "python",
   "pygments_lexer": "ipython3",
   "version": "3.7.0"
  }
 },
 "nbformat": 4,
 "nbformat_minor": 2
}
